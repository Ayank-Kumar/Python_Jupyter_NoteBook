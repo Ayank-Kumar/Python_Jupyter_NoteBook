{
 "cells": [
  {
   "cell_type": "markdown",
   "id": "514c37cc",
   "metadata": {},
   "source": [
    "# how to bring ipynb content file into jupiter"
   ]
  },
  {
   "cell_type": "markdown",
   "id": "397db439",
   "metadata": {},
   "source": [
    "aap ek nyi text file banayo. usmai ipynb ka content daal lo. us file ko rename kar do .ipynb se.\n",
    "Then again open kr lo whi pai. ab jab aap khole to UI code ko process krke khulega."
   ]
  },
  {
   "cell_type": "markdown",
   "id": "7d1d9d8d",
   "metadata": {},
   "source": [
    "code krna ho (python) \n",
    "markdown - (basic text hi laga mujhe to)\n",
    "markup/markdown - kuchh to hota hai.\n",
    "jo bhi krna ho us particular cell mai . wo type choose kr lo.\n",
    "run krne ke liye Run upar. \n",
    "code mai code output aa jayega. \n",
    "markdown mai text wgerah waise. (ye markdown mai hi likh raha hu mai)"
   ]
  },
  {
   "cell_type": "markdown",
   "id": "9eabdc12",
   "metadata": {},
   "source": [
    "basically ye udacity walo nai fil de rakhi hai markdown format mai - aap new file bano ipynb type ki \n",
    "usmai markdown type krke ye sara paste kr do aur markdown type mai run kr do."
   ]
  },
  {
   "cell_type": "code",
   "execution_count": null,
   "id": "772a0c6b",
   "metadata": {},
   "outputs": [],
   "source": []
  }
 ],
 "metadata": {
  "kernelspec": {
   "display_name": "Python 3 (ipykernel)",
   "language": "python",
   "name": "python3"
  },
  "language_info": {
   "codemirror_mode": {
    "name": "ipython",
    "version": 3
   },
   "file_extension": ".py",
   "mimetype": "text/x-python",
   "name": "python",
   "nbconvert_exporter": "python",
   "pygments_lexer": "ipython3",
   "version": "3.9.12"
  }
 },
 "nbformat": 4,
 "nbformat_minor": 5
}

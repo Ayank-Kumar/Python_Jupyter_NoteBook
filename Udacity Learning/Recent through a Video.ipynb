{
 "cells": [
  {
   "cell_type": "markdown",
   "id": "c3c5a1ed",
   "metadata": {},
   "source": [
    "## Just trying Something in mark Down"
   ]
  },
  {
   "cell_type": "markdown",
   "id": "76b082b4",
   "metadata": {},
   "source": [
    "<img src=\"https://picsum.photos/id/237/536/354\">"
   ]
  },
  {
   "cell_type": "markdown",
   "id": "905d903b",
   "metadata": {},
   "source": [
    "# Markdown mai dalna image upload krne wala, code mai nahi "
   ]
  },
  {
   "cell_type": "raw",
   "id": "f68b989a",
   "metadata": {},
   "source": [
    "format hoga - <img src=\"\"> - Jaha pai Url - aapki image pai jao uspai click kro, taki right mai bara se aye , fir uspai jake copy image address."
   ]
  },
  {
   "cell_type": "code",
   "execution_count": 4,
   "id": "0be6f54a",
   "metadata": {},
   "outputs": [
    {
     "name": "stdout",
     "output_type": "stream",
     "text": [
      "phli line re bhaiya\n",
      "dusri line re bhaiya\n",
      "teesri line re bhaiya\n",
      "kitna likhu\n"
     ]
    }
   ],
   "source": [
    "story = \"\"\"phli line re bhaiya\n",
    "dusri line re bhaiya\n",
    "teesri line re bhaiya\n",
    "kitna likhu\"\"\"\n",
    "print(story)"
   ]
  },
  {
   "cell_type": "code",
   "execution_count": 5,
   "id": "17226766",
   "metadata": {},
   "outputs": [
    {
     "name": "stdout",
     "output_type": "stream",
     "text": [
      "Rohit\n"
     ]
    }
   ],
   "source": [
    "brothers = ['Bittu','Rohit','Rohan','Roshan']\n",
    "print(brothers[1])"
   ]
  },
  {
   "cell_type": "code",
   "execution_count": 6,
   "id": "836d1db3",
   "metadata": {},
   "outputs": [
    {
     "name": "stdout",
     "output_type": "stream",
     "text": [
      "Bittu\n"
     ]
    }
   ],
   "source": [
    "print(brothers[0])"
   ]
  },
  {
   "cell_type": "code",
   "execution_count": 7,
   "id": "947e70ab",
   "metadata": {},
   "outputs": [
    {
     "name": "stdout",
     "output_type": "stream",
     "text": [
      "Romeo\n"
     ]
    }
   ],
   "source": [
    "lovers = [\"Romeo\",\"Juliet\"]\n",
    "print(lovers[0])"
   ]
  },
  {
   "cell_type": "markdown",
   "id": "7facc68e",
   "metadata": {},
   "source": [
    "mtlb maamu string bhi chalega, baki yaar jaise multiline string use kiya hai. To ye sb python ki cheeze hai, wo python aati hoti to aap aur cheeze kr skoge python ipyb kernel file mai. "
   ]
  },
  {
   "cell_type": "code",
   "execution_count": null,
   "id": "6b288483",
   "metadata": {},
   "outputs": [],
   "source": []
  }
 ],
 "metadata": {
  "kernelspec": {
   "display_name": "Python 3 (ipykernel)",
   "language": "python",
   "name": "python3"
  },
  "language_info": {
   "codemirror_mode": {
    "name": "ipython",
    "version": 3
   },
   "file_extension": ".py",
   "mimetype": "text/x-python",
   "name": "python",
   "nbconvert_exporter": "python",
   "pygments_lexer": "ipython3",
   "version": "3.9.12"
  }
 },
 "nbformat": 4,
 "nbformat_minor": 5
}

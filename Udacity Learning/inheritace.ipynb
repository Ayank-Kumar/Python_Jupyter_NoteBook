{
 "cells": [
  {
   "cell_type": "markdown",
   "metadata": {},
   "source": [
    "# Inheritance Exercise Clothing\n",
    "\n",
    "The following code contains a Clothing parent class and two children classes: Shirt and Pants.\n",
    "\n",
    "Your job is to code a class called Blouse. Read through the code and fill out the TODOs. Then check your work with the unit tests at the bottom of the code."
   ]
  },
  {
   "cell_type": "code",
   "execution_count": 6,
   "metadata": {},
   "outputs": [],
   "source": [
    "class Clothing:\n",
    "\n",
    " def __init__(self, color, size, style, price):\n",
    "     self.color = color\n",
    "     self.size = size\n",
    "     self.style = style\n",
    "     self.price = price\n",
    " \n",
    " def change_price(self, price):\n",
    "     self.price = price\n",
    " \n",
    " def calculate_discount(self, discount):\n",
    "     return self.price * (1 - discount)\n",
    "\n",
    " def calculate_shipping(self,Weight,Rate):\n",
    "     return Weight*Rate\n",
    " \n",
    "class Shirt(Clothing):\n",
    " \n",
    " def __init__(self, color, size, style, price, long_or_short):\n",
    " \n",
    "     Clothing.__init__(self, color, size, style, price)\n",
    "     self.long_or_short = long_or_short\n",
    " \n",
    " def double_price(self):\n",
    "     self.price = 2*self.price\n",
    " \n",
    "class Pants(Clothing):\n",
    "\n",
    " def __init__(self, color, size, style, price, waist):\n",
    "     Clothing.__init__(self, color, size, style, price)\n",
    "     self.waist = waist\n",
    " \n",
    " def calculate_discount(self, discount):\n",
    "     return self.price * (1 - discount / 2)\n",
    " \n",
    "class Blouse(Clothing):\n",
    "    def __init__(self,color,size,style,price,country_of_origin):       \n",
    "        Clothing.__init__(self,color,style,size,price)\n",
    "        self.country_of_origin = country_of_origin \n",
    "    \n",
    "    def triple_price(self):\n",
    "        return 3.0*self.price\n",
    "# TODO: Write a class called Blouse, that inherits from the Clothing class\n",
    "# and has the the following attributes and methods:\n",
    "# attributes: color, size, style, price, country_of_origin\n",
    "# where country_of_origin is a string that holds the name of a \n",
    "# country\n",
    "#\n",
    "# methods: triple_price, which has no inputs and returns three times\n",
    "# the price of the blouse\n",
    "#\n",
    "#\n",
    "\n",
    "# TODO: Add a method to the clothing class called calculate_shipping.\n",
    "# The method has two inputs: weight and rate. Weight is a float\n",
    "# representing the weight of the article of clothing. Rate is a float\n",
    "# representing the shipping weight. The method returns weight * rate\n"
   ]
  },
  {
   "cell_type": "code",
   "execution_count": null,
   "metadata": {},
   "outputs": [],
   "source": []
  }
 ],
 "metadata": {
  "kernelspec": {
   "display_name": "Python 3 (ipykernel)",
   "language": "python",
   "name": "python3"
  },
  "language_info": {
   "codemirror_mode": {
    "name": "ipython",
    "version": 3
   },
   "file_extension": ".py",
   "mimetype": "text/x-python",
   "name": "python",
   "nbconvert_exporter": "python",
   "pygments_lexer": "ipython3",
   "version": "3.9.12"
  }
 },
 "nbformat": 4,
 "nbformat_minor": 2
}

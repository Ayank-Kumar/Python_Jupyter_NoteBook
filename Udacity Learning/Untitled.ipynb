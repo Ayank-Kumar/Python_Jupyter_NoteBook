{
 "cells": [
  {
   "cell_type": "markdown",
   "id": "f51ad0fe",
   "metadata": {},
   "source": [
    "# Trying It Out"
   ]
  },
  {
   "cell_type": "code",
   "execution_count": 1,
   "id": "481b84cc",
   "metadata": {},
   "outputs": [
    {
     "name": "stdout",
     "output_type": "stream",
     "text": [
      "let's see if anything gets printed or not \n"
     ]
    }
   ],
   "source": [
    "print('let\\'s see if anything gets printed or not ')"
   ]
  },
  {
   "cell_type": "markdown",
   "id": "104ed4e2",
   "metadata": {},
   "source": [
    "jo jo likhunga wo sab aa jayega -- huihuihui\n",
    "\n",
    "hehehehe"
   ]
  },
  {
   "cell_type": "code",
   "execution_count": null,
   "id": "bedd0d09",
   "metadata": {},
   "outputs": [],
   "source": []
  }
 ],
 "metadata": {
  "kernelspec": {
   "display_name": "Python 3 (ipykernel)",
   "language": "python",
   "name": "python3"
  },
  "language_info": {
   "codemirror_mode": {
    "name": "ipython",
    "version": 3
   },
   "file_extension": ".py",
   "mimetype": "text/x-python",
   "name": "python",
   "nbconvert_exporter": "python",
   "pygments_lexer": "ipython3",
   "version": "3.9.12"
  }
 },
 "nbformat": 4,
 "nbformat_minor": 5
}
